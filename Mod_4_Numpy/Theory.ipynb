{
 "cells": [
  {
   "cell_type": "code",
   "execution_count": null,
   "metadata": {},
   "outputs": [],
   "source": [
    "#Question 1\n",
    "\n",
    "\"\"\"\n",
    "Numpy is internally made by c language. As we all know c is\n",
    "one the fastest language in programming world. Although it is python \n",
    "library still it is faster because of c language. That's why numpy \n",
    "brings so much numerical operation power to python\n",
    "\"\"\""
   ]
  },
  {
   "cell_type": "code",
   "execution_count": 1,
   "metadata": {},
   "outputs": [
    {
     "name": "stdout",
     "output_type": "stream",
     "text": [
      "30.0\n",
      "36.666666666666664\n"
     ]
    }
   ],
   "source": [
    "#Question  2\n",
    "\n",
    "import numpy as np\n",
    "\n",
    "data = [10 , 20 , 30 , 40 , 50]\n",
    "count = [1 , 2 , 3 , 4 , 5]\n",
    "print(np.mean(data))\n",
    "print(np.average(data , weights=count))\n",
    "\n",
    "\"\"\"\n",
    "When we wanna just calculate the total element sum / lenght of \n",
    "array. Then np.mean can be good function. np.average is used to\n",
    "calculate weighted average of data set. example is given above.\n",
    "\"\"\""
   ]
  },
  {
   "cell_type": "code",
   "execution_count": null,
   "metadata": {},
   "outputs": [],
   "source": []
  }
 ],
 "metadata": {
  "kernelspec": {
   "display_name": "Python 3",
   "language": "python",
   "name": "python3"
  },
  "language_info": {
   "codemirror_mode": {
    "name": "ipython",
    "version": 3
   },
   "file_extension": ".py",
   "mimetype": "text/x-python",
   "name": "python",
   "nbconvert_exporter": "python",
   "pygments_lexer": "ipython3",
   "version": "3.12.4"
  }
 },
 "nbformat": 4,
 "nbformat_minor": 2
}
