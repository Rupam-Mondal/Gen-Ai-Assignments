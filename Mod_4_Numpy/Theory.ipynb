{
 "cells": [
  {
   "cell_type": "code",
   "execution_count": null,
   "metadata": {},
   "outputs": [],
   "source": [
    "#Question 1\n",
    "\n",
    "\"\"\"\n",
    "Numpy is internally made by c language. As we all know c is\n",
    "one the fastest language in programming world. Although it is python \n",
    "library still it is faster because of c language. That's why numpy \n",
    "brings so much numerical operation power to python\n",
    "\"\"\""
   ]
  },
  {
   "cell_type": "code",
   "execution_count": 2,
   "metadata": {},
   "outputs": [
    {
     "name": "stdout",
     "output_type": "stream",
     "text": [
      "30.0\n",
      "36.666666666666664\n"
     ]
    },
    {
     "data": {
      "text/plain": [
       "'\\nWhen we wanna just calculate the total element sum / lenght of \\narray. Then np.mean can be good function. np.average is used to\\ncalculate weighted average of data set. example is given above.\\n'"
      ]
     },
     "execution_count": 2,
     "metadata": {},
     "output_type": "execute_result"
    }
   ],
   "source": [
    "#Question  2\n",
    "\n",
    "import numpy as np\n",
    "\n",
    "data = [10 , 20 , 30 , 40 , 50]\n",
    "count = [1 , 2 , 3 , 4 , 5]\n",
    "print(np.mean(data))\n",
    "print(np.average(data , weights=count))\n",
    "\n",
    "\"\"\"\n",
    "When we wanna just calculate the total element sum / lenght of \n",
    "array. Then np.mean can be good function. np.average is used to\n",
    "calculate weighted average of data set. example is given above.\n",
    "\"\"\""
   ]
  },
  {
   "cell_type": "code",
   "execution_count": null,
   "metadata": {},
   "outputs": [],
   "source": [
    "\"\"\"Question 5\"\"\"\n",
    "\n",
    "\"\"\"\n",
    "Numpy array is different that normal python list first of all\n",
    "list is heterogenous data structure in nature but ndarray is homogenous\n",
    "in nature. array size should be declared that makes it more efficuent\n",
    "in case of operation but list size is not fixed.Also arrays are optimised\n",
    "for mathermatical calculation\n",
    "\"\"\""
   ]
  },
  {
   "cell_type": "code",
   "execution_count": 5,
   "metadata": {},
   "outputs": [
    {
     "name": "stdout",
     "output_type": "stream",
     "text": [
      "[[1 2]\n",
      " [3 4]\n",
      " [5 6]\n",
      " [7 8]]\n",
      "\n",
      "\n",
      "[[1 2 5 6]\n",
      " [3 4 7 8]]\n"
     ]
    }
   ],
   "source": [
    "\"\"\"Question 6\"\"\"\n",
    "\n",
    "#vstack() -->\n",
    "\"\"\"vstack helps to stack 2 ndarray vertically\"\"\"\n",
    "arr1 = np.array([[1 , 2] , [3 , 4]])\n",
    "arr2 = np.array([[5 , 6] , [7 , 8]])\n",
    "\n",
    "print(np.vstack((arr1 , arr2)))\n",
    "print(\"\\n\")\n",
    "\n",
    "#hstack() -->\n",
    "\"\"\"hstack helps to stack 2 ndarray horizontally\"\"\"\n",
    "arr1 = np.array([[1 , 2] , [3 , 4]])\n",
    "arr2 = np.array([[5 , 6] , [7 , 8]])\n",
    "\n",
    "print(np.hstack((arr1 , arr2)))"
   ]
  },
  {
   "cell_type": "code",
   "execution_count": 9,
   "metadata": {},
   "outputs": [
    {
     "name": "stdout",
     "output_type": "stream",
     "text": [
      "[array([1, 2, 3]), array([4, 5, 6])]\n",
      "[array([1, 2]), array([3, 4]), array([5])]\n"
     ]
    }
   ],
   "source": [
    "\"\"\"Question 9\"\"\"\n",
    "\n",
    "#Evenly splict\n",
    "arr = np.array([1 , 2 , 3 , 4 , 5 , 6])\n",
    "sp_array = np.array_split(arr , 2)\n",
    "print(sp_array)\n",
    "\n",
    "#Uneven splic\n",
    "arr_un = np.array([1 , 2 , 3 , 4 , 5])\n",
    "sp_array_un = np.array_split(arr_un , 3)\n",
    "print(sp_array_un)\n",
    "\n",
    "\"\"\"\n",
    "for uneven partition it tries to put minimum numbers possible\n",
    "to the subarray.\n",
    "\"\"\"\n"
   ]
  },
  {
   "cell_type": "code",
   "execution_count": null,
   "metadata": {},
   "outputs": [],
   "source": [
    "\"\"\"Question 10\"\"\"\n",
    "\n",
    "\"\"\"Vectorization refers to the process of performing \n",
    "operations on entire arrays without explicit loops. It is extremely\n",
    "faster in terms of optimization\"\"\"\n",
    "\n",
    "\"\"\"Broadcasting is a powerful mechanism that allows NumPy to perform \n",
    "arithmetic operations on arrays of different shapes\"\"\""
   ]
  }
 ],
 "metadata": {
  "kernelspec": {
   "display_name": "Python 3",
   "language": "python",
   "name": "python3"
  },
  "language_info": {
   "codemirror_mode": {
    "name": "ipython",
    "version": 3
   },
   "file_extension": ".py",
   "mimetype": "text/x-python",
   "name": "python",
   "nbconvert_exporter": "python",
   "pygments_lexer": "ipython3",
   "version": "3.12.4"
  }
 },
 "nbformat": 4,
 "nbformat_minor": 2
}
