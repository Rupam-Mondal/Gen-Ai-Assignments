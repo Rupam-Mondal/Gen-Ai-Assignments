{
 "cells": [
  {
   "cell_type": "code",
   "execution_count": 1,
   "metadata": {},
   "outputs": [],
   "source": [
    "import numpy as np"
   ]
  },
  {
   "cell_type": "code",
   "execution_count": 3,
   "metadata": {},
   "outputs": [
    {
     "name": "stdout",
     "output_type": "stream",
     "text": [
      "[[ 9 77 15]\n",
      " [87 86 68]\n",
      " [94 42 58]]\n",
      "[[ 9 87 94]\n",
      " [77 86 42]\n",
      " [15 68 58]]\n"
     ]
    }
   ],
   "source": [
    "\"\"\"Question 1\"\"\"\n",
    "\n",
    "arr = np.random.randint(1 , 100 , size=(3 , 3))\n",
    "print(arr)\n",
    "\n",
    "arr1 = arr.T\n",
    "print(arr1)"
   ]
  },
  {
   "cell_type": "code",
   "execution_count": 2,
   "metadata": {},
   "outputs": [
    {
     "name": "stdout",
     "output_type": "stream",
     "text": [
      "[3 2 7 4 8 4 5 4 5 5]\n",
      "\n",
      "\n",
      "[[3 2]\n",
      " [7 4]\n",
      " [8 4]\n",
      " [5 4]\n",
      " [5 5]]\n",
      "\n",
      "\n",
      "[[3 2 7 4 8]\n",
      " [4 5 4 5 5]]\n"
     ]
    }
   ],
   "source": [
    "\"\"\"Question 2\"\"\"\n",
    "\n",
    "arr2 = np.random.randint(1 , 10 , 10)\n",
    "print(arr2)\n",
    "\n",
    "print(\"\\n\")\n",
    "\n",
    "\n",
    "arr3 = arr2.reshape(5 , 2)\n",
    "print(arr3)\n",
    "\n",
    "print(\"\\n\")\n",
    "\n",
    "arr4 = arr3.reshape(2 , 5)\n",
    "print(arr4)"
   ]
  },
  {
   "cell_type": "code",
   "execution_count": 11,
   "metadata": {},
   "outputs": [
    {
     "name": "stdout",
     "output_type": "stream",
     "text": [
      "[[0.36116416 0.22401711 0.35182995 0.27563214]\n",
      " [0.75740138 0.10371422 0.40829534 0.90894159]\n",
      " [0.51115668 0.45964856 0.48196115 0.5707185 ]\n",
      " [0.34155465 0.86786417 0.97081388 0.44976557]]\n",
      "\n",
      "\n",
      "[[0.         0.         0.         0.         0.         0.\n",
      "  0.         0.        ]\n",
      " [0.         0.         0.         0.         0.         0.\n",
      "  0.         0.        ]\n",
      " [0.         0.         0.36116416 0.22401711 0.35182995 0.27563214\n",
      "  0.         0.        ]\n",
      " [0.         0.         0.75740138 0.10371422 0.40829534 0.90894159\n",
      "  0.         0.        ]\n",
      " [0.         0.         0.51115668 0.45964856 0.48196115 0.5707185\n",
      "  0.         0.        ]\n",
      " [0.         0.         0.34155465 0.86786417 0.97081388 0.44976557\n",
      "  0.         0.        ]\n",
      " [0.         0.         0.         0.         0.         0.\n",
      "  0.         0.        ]\n",
      " [0.         0.         0.         0.         0.         0.\n",
      "  0.         0.        ]]\n"
     ]
    }
   ],
   "source": [
    "\"\"\"Question 3\"\"\"\n",
    "\n",
    "arr = np.random.rand(4 , 4)\n",
    "print(arr)\n",
    "print(\"\\n\")\n",
    "arr1 = np.pad(arr , 2 , mode='constant')\n",
    "print(arr1)\n"
   ]
  },
  {
   "cell_type": "code",
   "execution_count": 17,
   "metadata": {},
   "outputs": [
    {
     "data": {
      "text/plain": [
       "array([10, 15, 20, 25, 30, 35, 40, 45, 50, 55, 60])"
      ]
     },
     "execution_count": 17,
     "metadata": {},
     "output_type": "execute_result"
    }
   ],
   "source": [
    "\"\"\"Question 4\"\"\"\n",
    "arr5 = np.arange(10 , 61 , 5 , dtype=int)\n",
    "arr5"
   ]
  },
  {
   "cell_type": "code",
   "execution_count": 21,
   "metadata": {},
   "outputs": [
    {
     "name": "stdout",
     "output_type": "stream",
     "text": [
      "['PYTHON' 'NUMPY' 'PANDAS']\n",
      "['python' 'numpy' 'pandas']\n",
      "['Python' 'Numpy' 'Pandas']\n"
     ]
    }
   ],
   "source": [
    "\"\"\"Question 5\"\"\"\n",
    "a = np.array(['python' , 'numpy' , 'pandas'])\n",
    "\n",
    "allupper = np.char.upper(a)\n",
    "print(allupper)\n",
    "\n",
    "alllower = np.char.lower(a)\n",
    "print(alllower)\n",
    "\n",
    "capitalize = np.char.capitalize(a)\n",
    "print(capitalize)\n"
   ]
  },
  {
   "cell_type": "code",
   "execution_count": 60,
   "metadata": {},
   "outputs": [
    {
     "name": "stdout",
     "output_type": "stream",
     "text": [
      "['R u p a m' 'A v i k' 'A p p l e']\n"
     ]
    }
   ],
   "source": [
    "\"\"\"Question 6\"\"\"\n",
    "\n",
    "words = [\"Rupam\" , \"Avik\" , \"Apple\"]\n",
    "words_arr=  np.array(words)\n",
    "def space(word):\n",
    "    return ' '.join(word)\n",
    "space = np.array([space(word) for word in words])\n",
    "print(space)"
   ]
  },
  {
   "cell_type": "code",
   "execution_count": 26,
   "metadata": {},
   "outputs": [
    {
     "name": "stdout",
     "output_type": "stream",
     "text": [
      "[[ 6  7  8]\n",
      " [ 9 10 11]\n",
      " [12 13 14]]\n",
      "\n",
      "\n",
      "[[ 5 10 15]\n",
      " [20 25 30]\n",
      " [35 40 45]]\n",
      "\n",
      "\n",
      "[[-4 -3 -2]\n",
      " [-1  0  1]\n",
      " [ 2  3  4]]\n",
      "\n",
      "\n",
      "[[0.5 1.  1.5]\n",
      " [2.  2.5 3. ]\n",
      " [3.5 4.  4.5]]\n",
      "\n",
      "\n"
     ]
    }
   ],
   "source": [
    "\"\"\"Question 7\"\"\"\n",
    "\n",
    "a = np.array([[1 , 2 , 3] , [4 , 5 , 6] , [7 , 8 , 9]])\n",
    "b = a + 5\n",
    "print(b)\n",
    "print(\"\\n\")\n",
    "c = a * 5\n",
    "print(c)\n",
    "print(\"\\n\")\n",
    "\n",
    "d = a - 5\n",
    "print(d)\n",
    "print(\"\\n\")\n",
    "\n",
    "e = a / 2\n",
    "print(e)\n",
    "print(\"\\n\")"
   ]
  },
  {
   "cell_type": "code",
   "execution_count": 28,
   "metadata": {},
   "outputs": [
    {
     "data": {
      "text/plain": [
       "array([[1, 0, 0, 0, 0],\n",
       "       [0, 1, 0, 0, 0],\n",
       "       [0, 0, 1, 0, 0],\n",
       "       [0, 0, 0, 1, 0],\n",
       "       [0, 0, 0, 0, 1]])"
      ]
     },
     "execution_count": 28,
     "metadata": {},
     "output_type": "execute_result"
    }
   ],
   "source": [
    "\"\"\"Question 8\"\"\"\n",
    "\n",
    "arr8 = np.eye(5 , dtype=int)\n",
    "arr8"
   ]
  },
  {
   "cell_type": "code",
   "execution_count": 38,
   "metadata": {},
   "outputs": [
    {
     "name": "stdout",
     "output_type": "stream",
     "text": [
      "[101 131 151 181 191 313 353 373 383 727 757 787 797 919 929]\n"
     ]
    }
   ],
   "source": [
    "\"\"\"Question 9\"\"\"\n",
    "\n",
    "l = []\n",
    "def isprime(n):\n",
    "    if n <= 1:\n",
    "        return\n",
    "    if n == 2 or n == 3:\n",
    "        l.append(n)\n",
    "        return\n",
    "    for i in range(2, int(np.sqrt(n)) + 1):\n",
    "        if n % i == 0:\n",
    "            return\n",
    "    l.append(n)\n",
    "\n",
    "g = np.linspace(0, 1000, 100, dtype=int)\n",
    "for i in range(len(g)):\n",
    "    isprime(g[i])\n",
    "\n",
    "print(np.array(l))\n"
   ]
  },
  {
   "cell_type": "code",
   "execution_count": 51,
   "metadata": {},
   "outputs": [
    {
     "name": "stdout",
     "output_type": "stream",
     "text": [
      "[20.85714286 18.71428571 18.28571429 18.42857143]\n"
     ]
    }
   ],
   "source": [
    "\"\"\"Question 10\"\"\"\n",
    "\n",
    "temp = np.random.randint(10 , 30 , (4 , 7) , dtype=int)\n",
    "avg_temp = []\n",
    "t = np.shape(temp)\n",
    "for i in range(0 , t[0]):\n",
    "    sum = 0\n",
    "    for j in range(0 , t[1]):\n",
    "        sum = sum + temp[i][j]\n",
    "    avg_temp.append(sum / 7)\n",
    "\n",
    "ans = np.array(avg_temp)\n",
    "print(ans)"
   ]
  }
 ],
 "metadata": {
  "kernelspec": {
   "display_name": "Python 3",
   "language": "python",
   "name": "python3"
  },
  "language_info": {
   "codemirror_mode": {
    "name": "ipython",
    "version": 3
   },
   "file_extension": ".py",
   "mimetype": "text/x-python",
   "name": "python",
   "nbconvert_exporter": "python",
   "pygments_lexer": "ipython3",
   "version": "3.12.4"
  }
 },
 "nbformat": 4,
 "nbformat_minor": 2
}
