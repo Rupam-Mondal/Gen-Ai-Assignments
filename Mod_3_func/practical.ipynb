{
 "cells": [
  {
   "cell_type": "code",
   "execution_count": 1,
   "metadata": {},
   "outputs": [
    {
     "name": "stdout",
     "output_type": "stream",
     "text": [
      "Sum of even number = 16\n"
     ]
    }
   ],
   "source": [
    "#Question 1\n",
    "def sum(list):\n",
    "    sum = 0\n",
    "    for i in list:\n",
    "        if(i % 2 == 0):\n",
    "            sum = sum + i\n",
    "    return sum\n",
    "\n",
    "print(f\"Sum of even number = {sum([2 , 3 , 5 , 4 , 9 , 10])}\")"
   ]
  },
  {
   "cell_type": "code",
   "execution_count": 2,
   "metadata": {},
   "outputs": [
    {
     "name": "stdout",
     "output_type": "stream",
     "text": [
      "mapuR\n"
     ]
    }
   ],
   "source": [
    "#Question 2\n",
    "def reverse(s):\n",
    "    p = \"\"\n",
    "    for i in range(len(s) - 1 , -1 , -1):\n",
    "        p = p + s[i]\n",
    "    return p\n",
    "\n",
    "\n",
    "print(reverse(\"Rupam\"))"
   ]
  },
  {
   "cell_type": "code",
   "execution_count": 3,
   "metadata": {},
   "outputs": [
    {
     "name": "stdout",
     "output_type": "stream",
     "text": [
      "[1, 4, 9, 16]\n"
     ]
    }
   ],
   "source": [
    "#Question 3\n",
    "def square(list):\n",
    "    for i in range(0 , len(list)):\n",
    "        list[i] = list[i] ** 2\n",
    "    return list\n",
    "\n",
    "print(square([1 , 2 , 3 , 4]))"
   ]
  },
  {
   "cell_type": "code",
   "execution_count": 4,
   "metadata": {},
   "outputs": [
    {
     "name": "stdout",
     "output_type": "stream",
     "text": [
      "This is not prime\n"
     ]
    }
   ],
   "source": [
    "#Question 4\n",
    "\n",
    "import math as m\n",
    "\n",
    "\n",
    "def prime(n):\n",
    "    for i in range(2 , int(m.sqrt(n)) + 1):\n",
    "        if  n % i == 0:\n",
    "            return \"This is not prime\"\n",
    "        \n",
    "    return \"This is prime\"\n",
    "\n",
    "print(prime(12))"
   ]
  },
  {
   "cell_type": "code",
   "execution_count": 5,
   "metadata": {},
   "outputs": [
    {
     "name": "stdout",
     "output_type": "stream",
     "text": [
      "[0, 1, 1, 2, 3, 5, 8, 13, 21, 34]\n"
     ]
    }
   ],
   "source": [
    "#Question 5\n",
    "\n",
    "def fibo(n):\n",
    "    a = 0\n",
    "    b = 1\n",
    "    c = 0\n",
    "    for i in range(0 , n):\n",
    "        yield a\n",
    "        c = a + b\n",
    "        a = b\n",
    "        b = c\n",
    "\n",
    "\n",
    "\n",
    "print(list(fibo(10)))"
   ]
  },
  {
   "cell_type": "code",
   "execution_count": 6,
   "metadata": {},
   "outputs": [
    {
     "name": "stdout",
     "output_type": "stream",
     "text": [
      "1\n",
      "4\n",
      "9\n",
      "16\n",
      "25\n",
      "36\n"
     ]
    }
   ],
   "source": [
    "#Question 6\n",
    "\n",
    "def power(n):\n",
    "    for i in range(1 , n):\n",
    "        yield i ** 2\n",
    "\n",
    "\n",
    "g = power(10)\n",
    "print(next(g))\n",
    "print(next(g))\n",
    "print(next(g))\n",
    "print(next(g))\n",
    "print(next(g))\n",
    "print(next(g))"
   ]
  },
  {
   "cell_type": "code",
   "execution_count": 8,
   "metadata": {},
   "outputs": [
    {
     "name": "stdout",
     "output_type": "stream",
     "text": [
      "Rupam is a pwskills student\n",
      "I am a coder\n"
     ]
    }
   ],
   "source": [
    "#Question 7\n",
    "\n",
    "file_path = 'sample.txt'\n",
    "\n",
    "def line_read(file_path):\n",
    "    with open(file_path , 'r') as file:\n",
    "        for line in file:\n",
    "            yield line.strip()\n",
    "\n",
    "for line in line_read(file_path):\n",
    "    print(f\"{line}\")"
   ]
  },
  {
   "cell_type": "code",
   "execution_count": 7,
   "metadata": {},
   "outputs": [
    {
     "name": "stdout",
     "output_type": "stream",
     "text": [
      "[(8, -1, 3), (9, 0, 1), (1, 2, 3), (5, 3, 6), (9, 10, 11)]\n"
     ]
    }
   ],
   "source": [
    "#Question 8\n",
    "list = [(1 , 2 , 3) , (5 , 3 , 6) , (9 , 10 , 11) , (9 , 0 , 1) , (8 , -1 , 3)]\n",
    "\n",
    "sortedlist = sorted(list , key=lambda x:x[1])\n",
    "print(sortedlist)"
   ]
  },
  {
   "cell_type": "code",
   "execution_count": 1,
   "metadata": {},
   "outputs": [
    {
     "name": "stdout",
     "output_type": "stream",
     "text": [
      "[-11.0, -6.0, -1.0, 4.0, 2.5]\n"
     ]
    }
   ],
   "source": [
    "#Question 9\n",
    "def temp(val):\n",
    "    return 0.5 * (val - 32)\n",
    "\n",
    "tempc = [10 , 20 , 30 , 40 , 37]\n",
    "farenhite = map(temp , tempc)\n",
    "print(list(farenhite))"
   ]
  },
  {
   "cell_type": "code",
   "execution_count": 6,
   "metadata": {},
   "outputs": [
    {
     "name": "stdout",
     "output_type": "stream",
     "text": [
      "['u', 'a']\n"
     ]
    }
   ],
   "source": [
    "#Question 10\n",
    "def vowel(s):\n",
    "    if s == 'a' or s == 'e' or s == 'i' or s == 'o' or s == 'u':\n",
    "        return s\n",
    "    \n",
    "a = \"Rupam\"\n",
    "vowels = filter(vowel , a)\n",
    "print(list(vowels))"
   ]
  },
  {
   "cell_type": "code",
   "execution_count": 1,
   "metadata": {},
   "outputs": [
    {
     "name": "stdout",
     "output_type": "stream",
     "text": [
      "[(34587, 163.8), (98762, 284.0), (77226, 108.85000000000001), (88112, 84.97)]\n"
     ]
    }
   ],
   "source": [
    "#Question 11\n",
    "\n",
    "orders = [[34587 , 4 , 40.95] , [98762 , 5 , 56.80] , [77226 , 3 , 32.95] , [88112 , 3 , 24.99]]\n",
    "\n",
    "calculate_total = lambda order: (\n",
    "    order[0], \n",
    "    order[1] * order[2] + (10 if order[1] * order[2] < 100 else 0)\n",
    ")\n",
    "\n",
    "order_totals = list(map(calculate_total, orders))\n",
    "\n",
    "print(order_totals)\n",
    "\n"
   ]
  }
 ],
 "metadata": {
  "kernelspec": {
   "display_name": "Python 3",
   "language": "python",
   "name": "python3"
  },
  "language_info": {
   "codemirror_mode": {
    "name": "ipython",
    "version": 3
   },
   "file_extension": ".py",
   "mimetype": "text/x-python",
   "name": "python",
   "nbconvert_exporter": "python",
   "pygments_lexer": "ipython3",
   "version": "3.12.4"
  }
 },
 "nbformat": 4,
 "nbformat_minor": 2
}
