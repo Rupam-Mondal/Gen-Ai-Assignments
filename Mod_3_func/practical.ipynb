{
 "cells": [
  {
   "cell_type": "code",
   "execution_count": 1,
   "metadata": {},
   "outputs": [
    {
     "name": "stdout",
     "output_type": "stream",
     "text": [
      "Sum of even number = 16\n"
     ]
    }
   ],
   "source": [
    "#Question 1\n",
    "def sum(list):\n",
    "    sum = 0\n",
    "    for i in list:\n",
    "        if(i % 2 == 0):\n",
    "            sum = sum + i\n",
    "    return sum\n",
    "\n",
    "print(f\"Sum of even number = {sum([2 , 3 , 5 , 4 , 9 , 10])}\")"
   ]
  },
  {
   "cell_type": "code",
   "execution_count": 2,
   "metadata": {},
   "outputs": [
    {
     "name": "stdout",
     "output_type": "stream",
     "text": [
      "mapuR\n"
     ]
    }
   ],
   "source": [
    "#Question 2\n",
    "def reverse(s):\n",
    "    p = \"\"\n",
    "    for i in range(len(s) - 1 , -1 , -1):\n",
    "        p = p + s[i]\n",
    "    return p\n",
    "\n",
    "\n",
    "print(reverse(\"Rupam\"))"
   ]
  },
  {
   "cell_type": "code",
   "execution_count": 3,
   "metadata": {},
   "outputs": [
    {
     "name": "stdout",
     "output_type": "stream",
     "text": [
      "[1, 4, 9, 16]\n"
     ]
    }
   ],
   "source": [
    "#Question 3\n",
    "def square(list):\n",
    "    for i in range(0 , len(list)):\n",
    "        list[i] = list[i] ** 2\n",
    "    return list\n",
    "\n",
    "print(square([1 , 2 , 3 , 4]))"
   ]
  },
  {
   "cell_type": "code",
   "execution_count": 4,
   "metadata": {},
   "outputs": [
    {
     "name": "stdout",
     "output_type": "stream",
     "text": [
      "This is not prime\n"
     ]
    }
   ],
   "source": [
    "#Question 4\n",
    "\n",
    "import math as m\n",
    "\n",
    "\n",
    "def prime(n):\n",
    "    for i in range(2 , int(m.sqrt(n)) + 1):\n",
    "        if  n % i == 0:\n",
    "            return \"This is not prime\"\n",
    "        \n",
    "    return \"This is prime\"\n",
    "\n",
    "print(prime(12))"
   ]
  },
  {
   "cell_type": "code",
   "execution_count": 5,
   "metadata": {},
   "outputs": [
    {
     "name": "stdout",
     "output_type": "stream",
     "text": [
      "[0, 1, 1, 2, 3, 5, 8, 13, 21, 34]\n"
     ]
    }
   ],
   "source": [
    "#Question 5\n",
    "\n",
    "def fibo(n):\n",
    "    a = 0\n",
    "    b = 1\n",
    "    c = 0\n",
    "    for i in range(0 , n):\n",
    "        yield a\n",
    "        c = a + b\n",
    "        a = b\n",
    "        b = c\n",
    "\n",
    "\n",
    "\n",
    "print(list(fibo(10)))"
   ]
  },
  {
   "cell_type": "code",
   "execution_count": 6,
   "metadata": {},
   "outputs": [
    {
     "name": "stdout",
     "output_type": "stream",
     "text": [
      "1\n",
      "4\n",
      "9\n",
      "16\n",
      "25\n",
      "36\n"
     ]
    }
   ],
   "source": [
    "#Question 6\n",
    "\n",
    "def power(n):\n",
    "    for i in range(1 , n):\n",
    "        yield i ** 2\n",
    "\n",
    "\n",
    "g = power(10)\n",
    "print(next(g))\n",
    "print(next(g))\n",
    "print(next(g))\n",
    "print(next(g))\n",
    "print(next(g))\n",
    "print(next(g))"
   ]
  },
  {
   "cell_type": "code",
   "execution_count": 8,
   "metadata": {},
   "outputs": [
    {
     "name": "stdout",
     "output_type": "stream",
     "text": [
      "Rupam is a pwskills student\n",
      "I am a coder\n"
     ]
    }
   ],
   "source": [
    "#Question 7\n",
    "\n",
    "file_path = 'sample.txt'\n",
    "\n",
    "def line_read(file_path):\n",
    "    with open(file_path , 'r') as file:\n",
    "        for line in file:\n",
    "            yield line.strip()\n",
    "\n",
    "for line in line_read(file_path):\n",
    "    print(f\"{line}\")"
   ]
  },
  {
   "cell_type": "code",
   "execution_count": null,
   "metadata": {},
   "outputs": [],
   "source": []
  }
 ],
 "metadata": {
  "kernelspec": {
   "display_name": "Python 3",
   "language": "python",
   "name": "python3"
  },
  "language_info": {
   "codemirror_mode": {
    "name": "ipython",
    "version": 3
   },
   "file_extension": ".py",
   "mimetype": "text/x-python",
   "name": "python",
   "nbconvert_exporter": "python",
   "pygments_lexer": "ipython3",
   "version": "3.12.4"
  }
 },
 "nbformat": 4,
 "nbformat_minor": 2
}
