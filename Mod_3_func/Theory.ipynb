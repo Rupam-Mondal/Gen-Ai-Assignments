{
 "cells": [
  {
   "cell_type": "code",
   "execution_count": null,
   "metadata": {},
   "outputs": [],
   "source": [
    "#Question 1\n",
    "\n",
    "\"\"\" \n",
    "    Function can be present independently. We can call function\n",
    "    without creation of object we can use inner block independently\n",
    "\"\"\"\n",
    "\n",
    "\"\"\"\n",
    "    Those function which are present inside of classes technically\n",
    "    those are known as methods. We have create object or instances\n",
    "    to call those functions\n",
    "\"\"\""
   ]
  },
  {
   "cell_type": "code",
   "execution_count": null,
   "metadata": {},
   "outputs": [],
   "source": [
    "#Question 2\n",
    "\n",
    "\"\"\"\n",
    "    When we call the functions we some arguments inside it\n",
    "    those are arguments\n",
    "\n",
    "    play(\"Rupam\") play is a function\n",
    "\"\"\"\n",
    "\n",
    "\"\"\"\n",
    "    when we declare any function then we write parameters\n",
    "    ex--> def play(name):\n",
    "            pass\n",
    "\"\"\""
   ]
  },
  {
   "cell_type": "code",
   "execution_count": null,
   "metadata": {},
   "outputs": [],
   "source": [
    "#Question 3\n",
    "\n",
    "\"\"\"\n",
    "There are multiple ways to declare function in python\n",
    "\n",
    "(i). def sum(x , y):\n",
    "        return x + y\n",
    "(ii). add = lambda x , y : x + y\n",
    "(iii). class car:\n",
    "            def __init__(self , brand , model):\n",
    "                self.__brand = brand\n",
    "                self.model = model\n",
    "        def fullname(self):\n",
    "            print(\"Car Name is = \" , self.model , \" , Brand Name is = \" , self.brand)\n",
    "\"\"\"\n",
    "\"\"\"\n",
    "There multiple ways to call function\n",
    "(i). sum()\n",
    "(ii). mycar = car(\"BMW\" , \"M3\")\n",
    "        print(mycar.fullname())\n",
    "(iii). recursive call\n",
    "        def fact(n):\n",
    "                if n == 0 or n == 1:\n",
    "                        return n\n",
    "                return n * fact(n - 1)\n",
    "\"\"\"\n"
   ]
  },
  {
   "cell_type": "code",
   "execution_count": null,
   "metadata": {},
   "outputs": [],
   "source": [
    "#Question 4\n",
    "\n",
    "\"\"\"return statement helps to return any value , string , function\n",
    "    etc from function\n",
    "\"\"\""
   ]
  },
  {
   "cell_type": "code",
   "execution_count": null,
   "metadata": {},
   "outputs": [],
   "source": [
    "#Question 5\n",
    "\"\"\"\n",
    "    Iterator --> It is object that allows to access sequential\n",
    "                access of elements and in which container(data structures)\n",
    "                this can iterate those are known as ietarable like -->\n",
    "                list , string , tuple etc\n",
    "\"\"\""
   ]
  },
  {
   "cell_type": "code",
   "execution_count": null,
   "metadata": {},
   "outputs": [],
   "source": [
    "#Question 6\n",
    "\"\"\"\n",
    "Generator is a type of iterator which generates value when\n",
    "yield keyword is used \n",
    "ex-->\n",
    "def power(n):\n",
    "    for i in range(1 , n):\n",
    "        yield i ** 2\n",
    "\n",
    "\n",
    "g = power(10)\n",
    "print(next(g))\n",
    "\"\"\""
   ]
  },
  {
   "cell_type": "code",
   "execution_count": null,
   "metadata": {},
   "outputs": [],
   "source": [
    "#Question 7\n",
    "\n",
    "\"\"\"when there is long calculation in a function then normal\n",
    "    function can lead to performance issue so generators helps\n",
    "    , it does not execute function in one go so that increases\n",
    "    the performance of the function\n",
    "\"\"\""
   ]
  },
  {
   "cell_type": "code",
   "execution_count": null,
   "metadata": {},
   "outputs": [],
   "source": [
    "#Question 8\n",
    "\"\"\"\n",
    "lambda is basically used to write one liner function\n",
    "when function is too short\n",
    "ex --> add = lamba x , y : x + y\n",
    "\"\"\""
   ]
  },
  {
   "cell_type": "code",
   "execution_count": null,
   "metadata": {},
   "outputs": [],
   "source": [
    "#Question 9\n",
    "\"\"\"\n",
    "Map function helps to apply a specific function to the all elements\n",
    "of iterable\n",
    "def square(x):\n",
    "    return x * x\n",
    "\n",
    "number = [1 , 2 , 3 , 4]\n",
    "sq_list = map(square , number)\n",
    "print(list(sq_list))\n",
    "\n",
    "\"\"\"\n"
   ]
  },
  {
   "cell_type": "code",
   "execution_count": null,
   "metadata": {},
   "outputs": [],
   "source": []
  }
 ],
 "metadata": {
  "kernelspec": {
   "display_name": "Python 3",
   "language": "python",
   "name": "python3"
  },
  "language_info": {
   "codemirror_mode": {
    "name": "ipython",
    "version": 3
   },
   "file_extension": ".py",
   "mimetype": "text/x-python",
   "name": "python",
   "nbconvert_exporter": "python",
   "pygments_lexer": "ipython3",
   "version": "3.12.4"
  }
 },
 "nbformat": 4,
 "nbformat_minor": 2
}
